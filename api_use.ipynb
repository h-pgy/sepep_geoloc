{
 "cells": [
  {
   "cell_type": "code",
   "execution_count": 1,
   "id": "4654e793-bb2d-4386-a4ac-764c9230e5cc",
   "metadata": {},
   "outputs": [],
   "source": [
    "import sys\n",
    "from pathlib import Path\n",
    "\n",
    "# Adiciona o diretório raiz ao sys.path\n",
    "sys.path.append(str(Path().resolve() / \"api\"))\n",
    "sys.path.append(str(Path().resolve() / \"api/core\"))\n",
    "sys.path.append(str(Path().resolve() / \"api/core/integrations\"))\n"
   ]
  },
  {
   "cell_type": "code",
   "execution_count": 2,
   "id": "f8d56a10-a7c3-4557-aff1-ba72f4713bbb",
   "metadata": {},
   "outputs": [],
   "source": [
    "import api"
   ]
  },
  {
   "cell_type": "code",
   "execution_count": 3,
   "id": "bcc22c56-469a-464a-8454-569c927737ef",
   "metadata": {},
   "outputs": [
    {
     "data": {
      "text/plain": [
       "<module 'api' from 'C:\\\\Users\\\\d835916\\\\projetos\\\\sepep_geoloc\\\\api\\\\__init__.py'>"
      ]
     },
     "execution_count": 3,
     "metadata": {},
     "output_type": "execute_result"
    }
   ],
   "source": [
    "api"
   ]
  },
  {
   "cell_type": "code",
   "execution_count": 4,
   "id": "1193eb42-3313-47d3-b3fd-e3aaf6f39501",
   "metadata": {},
   "outputs": [
    {
     "name": "stdout",
     "output_type": "stream",
     "text": [
      "Requesting geosampa: http://wfs.geosampa.prefeitura.sp.gov.br/geoserver/ows/?service=WFS&version=1.0.0&request=GetCapabilities\n",
      "Requesting geosampa: http://wfs.geosampa.prefeitura.sp.gov.br/geoserver/ows/?service=WFS&version=1.0.0&request=GetCapabilities\n"
     ]
    }
   ],
   "source": [
    "from api.core.integrations import azure_maps_address_search\n",
    "from api.core.dao.parsers.azure import AddressParser"
   ]
  },
  {
   "cell_type": "code",
   "execution_count": 5,
   "id": "e2adca02-fb72-4645-98de-82f02f16e457",
   "metadata": {},
   "outputs": [
    {
     "name": "stdout",
     "output_type": "stream",
     "text": [
      "Searching Azure Maps:  https://atlas.microsoft.com/search/address/json?query=Viaduto do Chá nº , 15&streetName=Viaduto do Chá nº &streetNumber=15&municipality=Sao Paulo&countrySecondarySubdivision=Sao Paulo&countryCode=br&api-version=1.0&language=en-US&subscription-key=829QExrHeaJSKlXC38xjad8naXQEaULRk7DwO1jukYHzQf9JiuzbJQQJ99AKACYeBjFTItL7AAAgAZMP1ckF\n"
     ]
    }
   ],
   "source": [
    "results = azure_maps_address_search('Viaduto do Chá, nº 15')"
   ]
  },
  {
   "cell_type": "code",
   "execution_count": 6,
   "id": "dddad93b-259b-4e95-a557-08090d1c2e18",
   "metadata": {},
   "outputs": [
    {
     "data": {
      "text/plain": [
       "dict"
      ]
     },
     "execution_count": 6,
     "metadata": {},
     "output_type": "execute_result"
    }
   ],
   "source": [
    "type(results)"
   ]
  },
  {
   "cell_type": "code",
   "execution_count": 7,
   "id": "aac04288-573e-4f92-8ef0-69e3c12bdbb3",
   "metadata": {},
   "outputs": [],
   "source": [
    "parser = AddressParser()"
   ]
  },
  {
   "cell_type": "code",
   "execution_count": 8,
   "id": "a1f5128a-7824-40cd-9d3d-3c472371a03a",
   "metadata": {},
   "outputs": [
    {
     "name": "stdout",
     "output_type": "stream",
     "text": [
      "Feature fora do padrão: {'type': 'Geography', 'id': 'tfeZw8EPsVkbStx1lYLBeg', 'score': 0.38105311951733944, 'entityType': 'MunicipalitySubdivision', 'matchConfidence': {'score': 0.38105311951733944}, 'address': {'municipalitySubdivision': 'Vila Chã', 'municipality': 'Ponte de Lima', 'countrySecondarySubdivision': 'Viana do Castelo', 'countrySubdivision': 'Continental Portugal', 'countrySubdivisionName': 'Continental Portugal', 'countryCode': 'PT', 'country': 'Portugal', 'countryCodeISO3': 'PRT', 'freeformAddress': 'Vila Chã, Ponte de Lima'}, 'position': {'lat': 41.7616, 'lon': -8.48339}, 'viewport': {'topLeftPoint': {'lat': 41.76379, 'lon': -8.49025}, 'btmRightPoint': {'lat': 41.75921, 'lon': -8.4803}}, 'boundingBox': {'topLeftPoint': {'lat': 41.76379, 'lon': -8.49025}, 'btmRightPoint': {'lat': 41.75921, 'lon': -8.4803}}, 'dataSources': {'geometry': {'id': '00005054-3200-3c00-0000-000065541b63'}}}\n",
      "Feature fora do padrão: {'type': 'Geography', 'id': 'PTapkNwrjs5G58Igx9ebug', 'score': 0.3450631695925166, 'entityType': 'MunicipalitySubdivision', 'matchConfidence': {'score': 0.3450631695925166}, 'address': {'municipalitySubdivision': 'Vila Chã-São João Baptista', 'municipality': 'Ponte da Barca', 'countrySecondarySubdivision': 'Viana do Castelo', 'countrySubdivision': 'Continental Portugal', 'countrySubdivisionName': 'Continental Portugal', 'countryCode': 'PT', 'country': 'Portugal', 'countryCodeISO3': 'PRT', 'freeformAddress': 'Vila Chã-São João Baptista, Ponte da Barca'}, 'position': {'lat': 41.79188, 'lon': -8.33529}, 'viewport': {'topLeftPoint': {'lat': 41.79255, 'lon': -8.33626}, 'btmRightPoint': {'lat': 41.79116, 'lon': -8.3341}}, 'boundingBox': {'topLeftPoint': {'lat': 41.79255, 'lon': -8.33626}, 'btmRightPoint': {'lat': 41.79116, 'lon': -8.3341}}, 'dataSources': {'geometry': {'id': 'f8b13bee-9cc3-4f4c-9c1d-4c1b7d28e109'}}}\n"
     ]
    },
    {
     "data": {
      "text/plain": [
       "{'type': 'FeatureCollection',\n",
       " 'features': [{'type': 'Feature',\n",
       "   'properties': {'rua': 'Viaduto do Chá',\n",
       "    'cidade': 'São Paulo',\n",
       "    'estado': 'São Paulo',\n",
       "    'pais': 'Brazil',\n",
       "    'codigo_pais': 'BR',\n",
       "    'string_endereco': 'Viaduto do Chá, São Paulo, São Paulo, Brazil',\n",
       "    'osm_type': 'Street'},\n",
       "   'geometry': {'type': 'Point', 'coordinates': [-46.63733, -23.54703]},\n",
       "   'bbox': [-46.63807, -23.5475, -46.63647, -23.54646]},\n",
       "  {'type': 'Feature',\n",
       "   'properties': {'rua': 'Rua Número 15',\n",
       "    'cidade': 'Vila do Conde',\n",
       "    'estado': 'Continental Portugal',\n",
       "    'pais': 'Portugal',\n",
       "    'codigo_pais': 'PT',\n",
       "    'string_endereco': 'Rua Número 15, Vila do Conde, Vila do Conde, Portugal',\n",
       "    'osm_type': 'Street'},\n",
       "   'geometry': {'type': 'Point', 'coordinates': [-8.72545, 41.33192]},\n",
       "   'bbox': [-8.72579, 41.33188, -8.72484, 41.332]},\n",
       "  {'type': 'Feature',\n",
       "   'properties': {'rua': 'Avenida 15 de Novembro',\n",
       "    'cidade': 'Joaçaba',\n",
       "    'estado': 'Santa Catarina',\n",
       "    'pais': 'Brazil',\n",
       "    'codigo_pais': 'BR',\n",
       "    'numero': '15',\n",
       "    'string_endereco': 'Avenida 15 de Novembro, nº 15, Joaçaba, Joaçaba, Brazil',\n",
       "    'osm_type': 'Address Range'},\n",
       "   'geometry': {'type': 'Point', 'coordinates': [-51.50809, -27.17586]},\n",
       "   'bbox': [-51.50809, -27.17592, -51.50797, -27.17585]},\n",
       "  {'type': 'Feature',\n",
       "   'properties': {'rua': 'Rúa do Río Mao',\n",
       "    'cidade': 'Ourense',\n",
       "    'estado': 'Galicia',\n",
       "    'pais': 'Spain',\n",
       "    'codigo_pais': 'ES',\n",
       "    'numero': '15',\n",
       "    'string_endereco': 'Rúa do Río Mao, nº 15, Ourense, Ourense, Spain',\n",
       "    'osm_type': 'Point Address'},\n",
       "   'geometry': {'type': 'Point', 'coordinates': [-7.86432, 42.35259]},\n",
       "   'bbox': [-7.86554, 42.35169, -7.8631, 42.35349]},\n",
       "  {'type': 'Feature',\n",
       "   'properties': {'rua': 'Camino de Número 15',\n",
       "    'cidade': 'Buñol',\n",
       "    'estado': 'Community of Valencia',\n",
       "    'pais': 'Spain',\n",
       "    'codigo_pais': 'ES',\n",
       "    'numero': '15',\n",
       "    'string_endereco': 'Camino de Número 15, nº 15, Buñol, Buñol, Spain',\n",
       "    'osm_type': 'Address Range'},\n",
       "   'geometry': {'type': 'Point', 'coordinates': [-0.75772, 39.44893]},\n",
       "   'bbox': [-0.75766, 39.44852, -0.75765, 39.44892]},\n",
       "  {'type': 'Feature',\n",
       "   'properties': {'rua': 'Calle del Número 15',\n",
       "    'cidade': 'Sant Jaume dels Domenys',\n",
       "    'estado': 'Catalonia',\n",
       "    'pais': 'Spain',\n",
       "    'codigo_pais': 'ES',\n",
       "    'numero': '15',\n",
       "    'string_endereco': 'Calle del Número 15, nº 15, Sant Jaume dels Domenys, Sant Jaume dels Domenys, Spain',\n",
       "    'osm_type': 'Address Range'},\n",
       "   'geometry': {'type': 'Point', 'coordinates': [1.56363, 41.29813]},\n",
       "   'bbox': [1.56361, 41.29812, 1.56413, 41.29849]},\n",
       "  {'type': 'Feature',\n",
       "   'properties': {'rua': 'Viaduto do Chá & Praça do Patriarca',\n",
       "    'cidade': 'São Paulo',\n",
       "    'estado': 'São Paulo',\n",
       "    'pais': 'Brazil',\n",
       "    'codigo_pais': 'BR',\n",
       "    'string_endereco': 'Viaduto do Chá & Praça do Patriarca, São Paulo, São Paulo, Brazil',\n",
       "    'osm_type': 'Cross Street'},\n",
       "   'geometry': {'type': 'Point', 'coordinates': [-46.63709, -23.54721]},\n",
       "   'bbox': [-46.63807, -23.54811, -46.63611, -23.54631]},\n",
       "  {'type': 'Feature',\n",
       "   'properties': {'rua': 'Travessa da Ponte Nova Número 2',\n",
       "    'cidade': 'Fafe',\n",
       "    'estado': 'Continental Portugal',\n",
       "    'pais': 'Portugal',\n",
       "    'codigo_pais': 'PT',\n",
       "    'numero': '15',\n",
       "    'string_endereco': 'Travessa da Ponte Nova Número 2, nº 15, Fafe, Fafe, Portugal',\n",
       "    'osm_type': 'Address Range'},\n",
       "   'geometry': {'type': 'Point', 'coordinates': [-8.19852, 41.45107]},\n",
       "   'bbox': [-8.19854, 41.45104, -8.19851, 41.45108]}],\n",
       " 'crs': {'type': 'name', 'properties': {'name': 'EPSG:4326'}}}"
      ]
     },
     "execution_count": 8,
     "metadata": {},
     "output_type": "execute_result"
    }
   ],
   "source": [
    "parser(results)"
   ]
  },
  {
   "cell_type": "code",
   "execution_count": 9,
   "id": "b17571d2-19cd-4aa7-89d9-3f0a5d07bca7",
   "metadata": {},
   "outputs": [
    {
     "data": {
      "text/plain": [
       "{'query': 'viaduto do chá nº 15',\n",
       " 'queryType': 'NON_NEAR',\n",
       " 'queryTime': 200,\n",
       " 'numResults': 10,\n",
       " 'offset': 0,\n",
       " 'totalResults': 1541,\n",
       " 'fuzzyLevel': 2}"
      ]
     },
     "execution_count": 9,
     "metadata": {},
     "output_type": "execute_result"
    }
   ],
   "source": [
    "results['summary']"
   ]
  },
  {
   "cell_type": "code",
   "execution_count": 10,
   "id": "8e752eea-f8b2-485b-92b2-407ea2e882a3",
   "metadata": {},
   "outputs": [],
   "source": [
    "r = results['results'][0]"
   ]
  },
  {
   "cell_type": "code",
   "execution_count": 11,
   "id": "1b35ea89-e30d-4128-bee0-ed844322d402",
   "metadata": {},
   "outputs": [],
   "source": [
    "def build_bbox_viewport(viewport:dict)->dict:\n",
    "\n",
    "    lat_min = viewport['btmRightPoint']['lat']\n",
    "    lat_max = viewport['topLeftPoint']['lat']\n",
    "\n",
    "    long_min =  viewport['topLeftPoint']['lon']\n",
    "    long_max = viewport['btmRightPoint']['lon']\n",
    "\n",
    "    return [long_min, lat_min, long_max, lat_max]"
   ]
  },
  {
   "cell_type": "code",
   "execution_count": 12,
   "id": "7ebca44c-fb37-407b-8631-eb2527f158d7",
   "metadata": {
    "scrolled": true
   },
   "outputs": [
    {
     "data": {
      "text/plain": [
       "{'type': 'Street',\n",
       " 'id': 'UKJKuOHRPduonc6-hBh5fA',\n",
       " 'score': 0.6211255734702081,\n",
       " 'matchConfidence': {'score': 0.6211255734702081},\n",
       " 'address': {'streetName': 'Viaduto do Chá',\n",
       "  'municipality': 'São Paulo',\n",
       "  'countrySubdivision': 'São Paulo',\n",
       "  'countrySubdivisionName': 'São Paulo',\n",
       "  'countrySubdivisionCode': 'SP',\n",
       "  'countryCode': 'BR',\n",
       "  'country': 'Brazil',\n",
       "  'countryCodeISO3': 'BRA',\n",
       "  'freeformAddress': 'Viaduto do Chá, São Paulo',\n",
       "  'localName': 'São Paulo'},\n",
       " 'position': {'lat': -23.54703, 'lon': -46.63733},\n",
       " 'viewport': {'topLeftPoint': {'lat': -23.54646, 'lon': -46.63807},\n",
       "  'btmRightPoint': {'lat': -23.5475, 'lon': -46.63647}}}"
      ]
     },
     "execution_count": 12,
     "metadata": {},
     "output_type": "execute_result"
    }
   ],
   "source": [
    "r"
   ]
  },
  {
   "cell_type": "code",
   "execution_count": 13,
   "id": "6bfdd074-400f-4783-a0ab-331c4406e2cd",
   "metadata": {},
   "outputs": [
    {
     "data": {
      "text/plain": [
       "{'type': 'Street',\n",
       " 'id': 'UKJKuOHRPduonc6-hBh5fA',\n",
       " 'score': 0.6211255734702081,\n",
       " 'matchConfidence': {'score': 0.6211255734702081},\n",
       " 'address': {'streetName': 'Viaduto do Chá',\n",
       "  'municipality': 'São Paulo',\n",
       "  'countrySubdivision': 'São Paulo',\n",
       "  'countrySubdivisionName': 'São Paulo',\n",
       "  'countrySubdivisionCode': 'SP',\n",
       "  'countryCode': 'BR',\n",
       "  'country': 'Brazil',\n",
       "  'countryCodeISO3': 'BRA',\n",
       "  'freeformAddress': 'Viaduto do Chá, São Paulo',\n",
       "  'localName': 'São Paulo'},\n",
       " 'position': {'lat': -23.54703, 'lon': -46.63733},\n",
       " 'viewport': {'topLeftPoint': {'lat': -23.54646, 'lon': -46.63807},\n",
       "  'btmRightPoint': {'lat': -23.5475, 'lon': -46.63647}}}"
      ]
     },
     "execution_count": 13,
     "metadata": {},
     "output_type": "execute_result"
    }
   ],
   "source": [
    "r"
   ]
  },
  {
   "cell_type": "code",
   "execution_count": 14,
   "id": "da3d4850-92e7-4dc7-b44b-00c4a3602e5e",
   "metadata": {},
   "outputs": [],
   "source": [
    "p = r['position']"
   ]
  },
  {
   "cell_type": "code",
   "execution_count": 15,
   "id": "3855eafa-31f6-4809-be1b-858f08cedfd2",
   "metadata": {},
   "outputs": [
    {
     "data": {
      "text/plain": [
       "{'lat': -23.54703, 'lon': -46.63733}"
      ]
     },
     "execution_count": 15,
     "metadata": {},
     "output_type": "execute_result"
    }
   ],
   "source": [
    "p"
   ]
  },
  {
   "cell_type": "code",
   "execution_count": 16,
   "id": "430a960f-f991-45f9-9ceb-a3fc2d4ad30f",
   "metadata": {},
   "outputs": [],
   "source": [
    "from api.core.dao.camadas_search import ListCamadas, DetailCamada"
   ]
  },
  {
   "cell_type": "code",
   "execution_count": 17,
   "id": "3155b374-cf97-4956-b90a-112680dd1dd3",
   "metadata": {},
   "outputs": [
    {
     "data": {
      "text/plain": [
       "True"
      ]
     },
     "execution_count": 17,
     "metadata": {},
     "output_type": "execute_result"
    }
   ],
   "source": [
    "'1'.isdigit()"
   ]
  },
  {
   "cell_type": "code",
   "execution_count": 18,
   "id": "e8961674-cc32-40d2-aa05-92bf63ef8114",
   "metadata": {},
   "outputs": [
    {
     "ename": "NameError",
     "evalue": "name 'AddresSearch' is not defined",
     "output_type": "error",
     "traceback": [
      "\u001b[1;31m---------------------------------------------------------------------------\u001b[0m",
      "\u001b[1;31mNameError\u001b[0m                                 Traceback (most recent call last)",
      "Cell \u001b[1;32mIn[18], line 1\u001b[0m\n\u001b[1;32m----> 1\u001b[0m search \u001b[38;5;241m=\u001b[39m \u001b[43mAddresSearch\u001b[49m()\n",
      "\u001b[1;31mNameError\u001b[0m: name 'AddresSearch' is not defined"
     ]
    }
   ],
   "source": [
    "search = AddresSearch()"
   ]
  },
  {
   "cell_type": "code",
   "execution_count": null,
   "id": "cb0a3cd5-25ae-43e7-b2e6-587c913c37d3",
   "metadata": {},
   "outputs": [],
   "source": [
    "camadas = ListCamadas()"
   ]
  },
  {
   "cell_type": "code",
   "execution_count": null,
   "id": "78c8bca1-6c5f-485f-94f3-19a2689bcadc",
   "metadata": {},
   "outputs": [],
   "source": [
    "detalhes = DetailCamada()"
   ]
  },
  {
   "cell_type": "code",
   "execution_count": null,
   "id": "4f5cab5c-43a2-48d6-8bb3-9aca9035f98e",
   "metadata": {
    "scrolled": true
   },
   "outputs": [],
   "source": [
    "c = camadas()"
   ]
  },
  {
   "cell_type": "code",
   "execution_count": null,
   "id": "3ac93d14-5446-4dbd-9ebe-bc1cb537e321",
   "metadata": {},
   "outputs": [],
   "source": [
    "camada = c[4]"
   ]
  },
  {
   "cell_type": "code",
   "execution_count": null,
   "id": "aff070ae-4825-4d2e-816c-f718f0cd9d7a",
   "metadata": {},
   "outputs": [],
   "source": [
    "from api.core.schemas.camadas import DetalhesCamada, CamadaBasico"
   ]
  },
  {
   "cell_type": "code",
   "execution_count": null,
   "id": "1bb88b75-419c-4057-8408-2ea85eb76256",
   "metadata": {},
   "outputs": [],
   "source": [
    "CamadaBasico(**camada)"
   ]
  },
  {
   "cell_type": "code",
   "execution_count": null,
   "id": "b193c1ce-976b-4ebd-b195-f9dc834cf6b3",
   "metadata": {},
   "outputs": [],
   "source": [
    "det = detalhes('geoportal:conectividade_fablab_grande')"
   ]
  },
  {
   "cell_type": "code",
   "execution_count": null,
   "id": "c0b24056-8c7e-48ca-a09f-8031140dc96e",
   "metadata": {},
   "outputs": [],
   "source": [
    "det"
   ]
  },
  {
   "cell_type": "code",
   "execution_count": null,
   "id": "35fd4550-b514-49d0-8a26-e21d0246e3be",
   "metadata": {},
   "outputs": [],
   "source": [
    "DetalhesCamada(**det)"
   ]
  },
  {
   "cell_type": "code",
   "execution_count": null,
   "id": "df3ef3f0-7904-4a01-8cc3-1379de74a44b",
   "metadata": {},
   "outputs": [],
   "source": [
    "det.keys()"
   ]
  },
  {
   "cell_type": "code",
   "execution_count": null,
   "id": "51442580-d1c2-4662-80da-fa05fbc13320",
   "metadata": {},
   "outputs": [],
   "source": [
    "det['properties'][0]"
   ]
  },
  {
   "cell_type": "code",
   "execution_count": null,
   "id": "4871db25-6c8a-4074-b2fe-15f981646a3f",
   "metadata": {
    "scrolled": true
   },
   "outputs": [],
   "source": [
    "geojsons = search('Rua Líbero Badaró, 425', bacia='geoportal:bacia_hidrografica', ubs='geoportal:equipamento_saude_abrangencia_ubs')"
   ]
  },
  {
   "cell_type": "code",
   "execution_count": null,
   "id": "404de5c9-9ae6-4cee-a90c-50aae651bbad",
   "metadata": {},
   "outputs": [],
   "source": [
    "from api.core.schemas.address import AdressSearch"
   ]
  },
  {
   "cell_type": "code",
   "execution_count": null,
   "id": "5d2e11f3-9762-480a-a81f-e0d733fd680c",
   "metadata": {},
   "outputs": [],
   "source": [
    "g = geojsons[0]"
   ]
  },
  {
   "cell_type": "code",
   "execution_count": null,
   "id": "7fee1052-3f32-4cba-924b-51adbe7365ff",
   "metadata": {
    "scrolled": true
   },
   "outputs": [],
   "source": [
    "g['camadas_geosampa']"
   ]
  },
  {
   "cell_type": "code",
   "execution_count": null,
   "id": "4eb91e60-1d1d-43a3-af5e-d82000493462",
   "metadata": {
    "scrolled": true
   },
   "outputs": [],
   "source": [
    "geojsons"
   ]
  },
  {
   "cell_type": "code",
   "execution_count": null,
   "id": "9a3273b0-485a-4afe-895f-7fae4f60d7db",
   "metadata": {},
   "outputs": [],
   "source": [
    "AdressSearch(**geojsons[0])"
   ]
  },
  {
   "cell_type": "code",
   "execution_count": null,
   "id": "3afec3ef-ac9b-4d77-a3fb-02966ba9f631",
   "metadata": {},
   "outputs": [],
   "source": [
    "geojsons[0]"
   ]
  },
  {
   "cell_type": "code",
   "execution_count": null,
   "id": "524f64c7-d104-4857-93b8-2b358f5d780a",
   "metadata": {},
   "outputs": [],
   "source": [
    "geojsons[0]['endereco']"
   ]
  },
  {
   "cell_type": "code",
   "execution_count": null,
   "id": "3dbb472a-04d0-4739-b54e-4d10762c118c",
   "metadata": {},
   "outputs": [],
   "source": [
    "from api.core.schemas.geojson import GeoJson"
   ]
  },
  {
   "cell_type": "code",
   "execution_count": null,
   "id": "3719cac8-dc64-41d4-b36b-49deaa0a5624",
   "metadata": {},
   "outputs": [],
   "source": [
    "GeoJson(**geojsons[0]['endereco'])"
   ]
  },
  {
   "cell_type": "code",
   "execution_count": null,
   "id": "2798b760-8639-4314-b2f1-2b581f8ba7cc",
   "metadata": {},
   "outputs": [],
   "source": [
    "g = GeoJson(**geojsons[0]['camadas_geosampa']['ubs'])"
   ]
  },
  {
   "cell_type": "code",
   "execution_count": null,
   "id": "21075267-7ad7-48be-a61d-4835591a6902",
   "metadata": {},
   "outputs": [],
   "source": [
    "geojsons[0]['camadas_geosampa']['bacia']"
   ]
  },
  {
   "cell_type": "code",
   "execution_count": null,
   "id": "b384f865-70fd-4ba4-ad67-86bc760213d7",
   "metadata": {},
   "outputs": [],
   "source": [
    "GeoJson(**geojsons[0]['subprefeitura'])"
   ]
  },
  {
   "cell_type": "code",
   "execution_count": null,
   "id": "4445fb95-4a0d-4b75-bbe6-5a3fd561949c",
   "metadata": {},
   "outputs": [],
   "source": [
    "geojsons[0]['endereco'].keys()"
   ]
  },
  {
   "cell_type": "code",
   "execution_count": null,
   "id": "b4f10b20-38d4-4063-b463-7ff6b0e48d08",
   "metadata": {},
   "outputs": [],
   "source": [
    "GEOM_TYPES = (\n",
    "    'Geometry',\n",
    "    'LineString',\n",
    "    'MultiLineString',\n",
    "    'MultiPolygon',\n",
    "    'Point',\n",
    "    'Polygon'\n",
    ")"
   ]
  },
  {
   "cell_type": "code",
   "execution_count": null,
   "id": "d3f848f7-4d1b-447a-ab85-11be1055b8b6",
   "metadata": {},
   "outputs": [],
   "source": [
    "geojsons[0]['endereco']['features'][0]['geometry']['type'] in GEOM_TYPES"
   ]
  },
  {
   "cell_type": "code",
   "execution_count": null,
   "id": "16832e75-2b53-49eb-b4e5-3d9478c467fb",
   "metadata": {},
   "outputs": [],
   "source": [
    "'Point'"
   ]
  },
  {
   "cell_type": "code",
   "execution_count": null,
   "id": "f1145951-9bbc-4384-b332-996c8b430458",
   "metadata": {},
   "outputs": [],
   "source": []
  }
 ],
 "metadata": {
  "kernelspec": {
   "display_name": "Python 3 (ipykernel)",
   "language": "python",
   "name": "python3"
  },
  "language_info": {
   "codemirror_mode": {
    "name": "ipython",
    "version": 3
   },
   "file_extension": ".py",
   "mimetype": "text/x-python",
   "name": "python",
   "nbconvert_exporter": "python",
   "pygments_lexer": "ipython3",
   "version": "3.11.1"
  }
 },
 "nbformat": 4,
 "nbformat_minor": 5
}
